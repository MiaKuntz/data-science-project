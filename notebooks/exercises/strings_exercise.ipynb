{
 "cells": [
  {
   "cell_type": "markdown",
   "metadata": {},
   "source": [
    "# 1. Fill missing pieces\n",
    "Fill `____` pieces below to have correct values for `lower_cased`, `stripped` and `stripped_lower_case` variables."
   ]
  },
  {
   "cell_type": "code",
   "execution_count": 1,
   "metadata": {},
   "outputs": [
    {
     "ename": "AttributeError",
     "evalue": "'str' object has no attribute '____'",
     "output_type": "error",
     "traceback": [
      "\u001b[0;31m---------------------------------------------------------------------------\u001b[0m",
      "\u001b[0;31mAttributeError\u001b[0m                            Traceback (most recent call last)",
      "\u001b[1;32m/Users/miakuntz/Documents/UNI/8. semester/data science project/part_2/data-science-project/notebooks/exercises/strings_exercise.ipynb Cell 2\u001b[0m line \u001b[0;36m2\n\u001b[1;32m      <a href='vscode-notebook-cell:/Users/miakuntz/Documents/UNI/8.%20semester/data%20science%20project/part_2/data-science-project/notebooks/exercises/strings_exercise.ipynb#W1sZmlsZQ%3D%3D?line=0'>1</a>\u001b[0m original \u001b[39m=\u001b[39m \u001b[39m'\u001b[39m\u001b[39m Python strings are COOL! \u001b[39m\u001b[39m'\u001b[39m\n\u001b[0;32m----> <a href='vscode-notebook-cell:/Users/miakuntz/Documents/UNI/8.%20semester/data%20science%20project/part_2/data-science-project/notebooks/exercises/strings_exercise.ipynb#W1sZmlsZQ%3D%3D?line=1'>2</a>\u001b[0m lower_cased \u001b[39m=\u001b[39m original\u001b[39m.\u001b[39;49m____\n\u001b[1;32m      <a href='vscode-notebook-cell:/Users/miakuntz/Documents/UNI/8.%20semester/data%20science%20project/part_2/data-science-project/notebooks/exercises/strings_exercise.ipynb#W1sZmlsZQ%3D%3D?line=2'>3</a>\u001b[0m stripped \u001b[39m=\u001b[39m original\u001b[39m.\u001b[39m____\n\u001b[1;32m      <a href='vscode-notebook-cell:/Users/miakuntz/Documents/UNI/8.%20semester/data%20science%20project/part_2/data-science-project/notebooks/exercises/strings_exercise.ipynb#W1sZmlsZQ%3D%3D?line=3'>4</a>\u001b[0m stripped_lower_cased \u001b[39m=\u001b[39m original\u001b[39m.\u001b[39m____\u001b[39m.\u001b[39m____\n",
      "\u001b[0;31mAttributeError\u001b[0m: 'str' object has no attribute '____'"
     ]
    }
   ],
   "source": [
    "original = ' Python strings are COOL! '\n",
    "lower_cased = original.____\n",
    "stripped = original.____\n",
    "stripped_lower_cased = original.____.____"
   ]
  },
  {
   "cell_type": "markdown",
   "metadata": {},
   "source": [
    "Let's verify that the implementation is correct by running the cell below. `assert` will raise `AssertionError` if the statement is not true.  "
   ]
  },
  {
   "cell_type": "code",
   "execution_count": 2,
   "metadata": {
    "editable": false
   },
   "outputs": [
    {
     "ename": "NameError",
     "evalue": "name 'lower_cased' is not defined",
     "output_type": "error",
     "traceback": [
      "\u001b[0;31m---------------------------------------------------------------------------\u001b[0m",
      "\u001b[0;31mNameError\u001b[0m                                 Traceback (most recent call last)",
      "\u001b[1;32m/Users/miakuntz/Documents/UNI/8. semester/data science project/part_2/data-science-project/notebooks/exercises/strings_exercise.ipynb Cell 4\u001b[0m line \u001b[0;36m1\n\u001b[0;32m----> <a href='vscode-notebook-cell:/Users/miakuntz/Documents/UNI/8.%20semester/data%20science%20project/part_2/data-science-project/notebooks/exercises/strings_exercise.ipynb#W3sZmlsZQ%3D%3D?line=0'>1</a>\u001b[0m \u001b[39massert\u001b[39;00m lower_cased \u001b[39m==\u001b[39m \u001b[39m'\u001b[39m\u001b[39m python strings are cool! \u001b[39m\u001b[39m'\u001b[39m\n\u001b[1;32m      <a href='vscode-notebook-cell:/Users/miakuntz/Documents/UNI/8.%20semester/data%20science%20project/part_2/data-science-project/notebooks/exercises/strings_exercise.ipynb#W3sZmlsZQ%3D%3D?line=1'>2</a>\u001b[0m \u001b[39massert\u001b[39;00m stripped \u001b[39m==\u001b[39m \u001b[39m'\u001b[39m\u001b[39mPython strings are COOL!\u001b[39m\u001b[39m'\u001b[39m\n\u001b[1;32m      <a href='vscode-notebook-cell:/Users/miakuntz/Documents/UNI/8.%20semester/data%20science%20project/part_2/data-science-project/notebooks/exercises/strings_exercise.ipynb#W3sZmlsZQ%3D%3D?line=2'>3</a>\u001b[0m \u001b[39massert\u001b[39;00m stripped_lower_cased \u001b[39m==\u001b[39m \u001b[39m'\u001b[39m\u001b[39mpython strings are cool!\u001b[39m\u001b[39m'\u001b[39m\n",
      "\u001b[0;31mNameError\u001b[0m: name 'lower_cased' is not defined"
     ]
    }
   ],
   "source": [
    "assert lower_cased == ' python strings are cool! '\n",
    "assert stripped == 'Python strings are COOL!'\n",
    "assert stripped_lower_cased == 'python strings are cool!'"
   ]
  },
  {
   "cell_type": "markdown",
   "metadata": {},
   "source": [
    "# 2. Prettify ugly string\n",
    "Use `str` methods to convert `ugly` to wanted `pretty`."
   ]
  },
  {
   "cell_type": "code",
   "execution_count": null,
   "metadata": {
    "editable": false
   },
   "outputs": [],
   "source": [
    "ugly = ' tiTle of MY new Book\\n\\n'"
   ]
  },
  {
   "cell_type": "code",
   "execution_count": null,
   "metadata": {},
   "outputs": [],
   "source": [
    "# Your implementation:\n",
    "pretty = 'TODO'"
   ]
  },
  {
   "cell_type": "markdown",
   "metadata": {},
   "source": [
    "Let's make sure that it does what we want. `assert` raises [`AssertionError`](https://docs.python.org/3/library/exceptions.html#AssertionError) if the statement is not `True`."
   ]
  },
  {
   "cell_type": "code",
   "execution_count": null,
   "metadata": {
    "editable": false
   },
   "outputs": [],
   "source": [
    "print('pretty: {}'.format(pretty))\n",
    "assert pretty == 'Title Of My New Book'"
   ]
  },
  {
   "cell_type": "markdown",
   "metadata": {},
   "source": [
    "# 3. Format string based on existing variables\n",
    "Create `sentence` by using `verb`, `language`, and `punctuation` and any other strings you may need."
   ]
  },
  {
   "cell_type": "code",
   "execution_count": null,
   "metadata": {
    "editable": false
   },
   "outputs": [],
   "source": [
    "verb = 'is'\n",
    "language = 'Python'\n",
    "punctuation = '!'"
   ]
  },
  {
   "cell_type": "code",
   "execution_count": null,
   "metadata": {},
   "outputs": [],
   "source": [
    "# Your implementation:\n",
    "sentence = 'TODO'"
   ]
  },
  {
   "cell_type": "code",
   "execution_count": null,
   "metadata": {
    "editable": false
   },
   "outputs": [],
   "source": [
    "print('sentence: {}'.format(sentence))\n",
    "assert sentence == 'Learning Python is fun!'"
   ]
  }
 ],
 "metadata": {
  "kernelspec": {
   "display_name": "Python 3 (ipykernel)",
   "language": "python",
   "name": "python3"
  },
  "language_info": {
   "codemirror_mode": {
    "name": "ipython",
    "version": 3
   },
   "file_extension": ".py",
   "mimetype": "text/x-python",
   "name": "python",
   "nbconvert_exporter": "python",
   "pygments_lexer": "ipython3",
   "version": "3.11.1"
  }
 },
 "nbformat": 4,
 "nbformat_minor": 4
}
