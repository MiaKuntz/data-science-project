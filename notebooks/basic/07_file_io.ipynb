{
 "cells": [
  {
   "cell_type": "markdown",
   "metadata": {},
   "source": [
    "# [File I/O](https://docs.python.org/3/tutorial/inputoutput.html#reading-and-writing-files)\n",
    "Reading and writing files."
   ]
  },
  {
   "cell_type": "markdown",
   "metadata": {},
   "source": [
    "## Working with paths"
   ]
  },
  {
   "cell_type": "code",
   "execution_count": 1,
   "metadata": {},
   "outputs": [
    {
     "name": "stdout",
     "output_type": "stream",
     "text": [
      "current file: /Users/miakuntz/Documents/UNI/8. semester/data science project/part_2/data-science-project/notebooks/basic/07_file_io.ipynb\n"
     ]
    }
   ],
   "source": [
    "import os # importing os module to use os.path.realpath() method to get the path of current file \n",
    "\n",
    "current_file = os.path.realpath('07_file_io.ipynb') # getting the path of current file\n",
    "print('current file: {}'.format(current_file)) # printing the path of current file \n",
    "# Note: in .py files you can get the path of current file by __file__"
   ]
  },
  {
   "cell_type": "code",
   "execution_count": 2,
   "metadata": {},
   "outputs": [
    {
     "name": "stdout",
     "output_type": "stream",
     "text": [
      "current directory: /Users/miakuntz/Documents/UNI/8. semester/data science project/part_2/data-science-project/notebooks/basic\n"
     ]
    }
   ],
   "source": [
    "current_dir = os.path.dirname(current_file) # getting the directory of current file\n",
    "print('current directory: {}'.format(current_dir)) # printing the directory of current file\n",
    "# Note: in .py files you can get the dir of current file by os.path.dirname(__file__)"
   ]
  },
  {
   "cell_type": "code",
   "execution_count": 3,
   "metadata": {},
   "outputs": [
    {
     "name": "stdout",
     "output_type": "stream",
     "text": [
      "data directory: /Users/miakuntz/Documents/UNI/8. semester/data science project/part_2/data-science-project/notebooks/basic/data\n"
     ]
    }
   ],
   "source": [
    "data_dir = os.path.join(os.path.dirname(current_file), 'data') # joining the directory of current file with 'data' to get the path of data directory\n",
    "print('data directory: {}'.format(data_dir)) # printing the path of data directory"
   ]
  },
  {
   "cell_type": "markdown",
   "metadata": {},
   "source": [
    "### Checking if path exists"
   ]
  },
  {
   "cell_type": "code",
   "execution_count": 4,
   "metadata": {},
   "outputs": [
    {
     "name": "stdout",
     "output_type": "stream",
     "text": [
      "exists: True\n",
      "is file: True\n",
      "is directory: True\n"
     ]
    }
   ],
   "source": [
    "print('exists: {}'.format(os.path.exists(current_dir))) # checking if the directory of current file exists or not \n",
    "print('is file: {}'.format(os.path.isfile(current_file))) # checking if the current file is a file or not\n",
    "print('is directory: {}'.format(os.path.isdir(data_dir))) # checking if the data directory is a directory or not"
   ]
  },
  {
   "cell_type": "markdown",
   "metadata": {},
   "source": [
    "## Reading files"
   ]
  },
  {
   "cell_type": "code",
   "execution_count": 5,
   "metadata": {},
   "outputs": [
    {
     "name": "stdout",
     "output_type": "stream",
     "text": [
      "First line\n",
      "Second line\n",
      "Third\n",
      "And so the story goes!\n"
     ]
    }
   ],
   "source": [
    "file_path = os.path.join(data_dir, 'simple_file.txt') # joining the data directory with 'simple_file.txt' to get the path of simple_file.txt\n",
    "\n",
    "with open(file_path, 'r') as simple_file: # opening the simple_file.txt in read mode\n",
    "    for line in simple_file: # iterating through the lines of simple_file.txt\n",
    "        print(line.strip()) # printing the lines of simple_file.txt"
   ]
  },
  {
   "cell_type": "markdown",
   "metadata": {},
   "source": [
    "The [`with`](https://docs.python.org/3/reference/compound_stmts.html#the-with-statement) statement is for obtaining a [context manager](https://docs.python.org/3/reference/datamodel.html#with-statement-context-managers) that will be used as an execution context for the commands inside the `with`. Context managers guarantee that certain operations are done when exiting the context. \n",
    "\n",
    "In this case, the context manager guarantees that `simple_file.close()` is implicitly called when exiting the context. This is a way to make developers life easier: you don't have to remember to explicitly close the file you openened nor be worried about an exception occuring while the file is open. Unclosed file maybe a source of a resource leak. Thus, prefer using `with open()` structure always with file I/O.\n",
    "\n",
    "To have an example, the same as above without the `with`."
   ]
  },
  {
   "cell_type": "code",
   "execution_count": 6,
   "metadata": {},
   "outputs": [
    {
     "name": "stdout",
     "output_type": "stream",
     "text": [
      "First line\n",
      "Second line\n",
      "Third\n",
      "And so the story goes!\n"
     ]
    }
   ],
   "source": [
    "file_path = os.path.join(data_dir, 'simple_file.txt') # joining the data directory with 'simple_file.txt' to get the path of simple_file.txt\n",
    "\n",
    "# THIS IS NOT THE PREFERRED WAY\n",
    "simple_file = open(file_path, 'r') # opening the simple_file.txt in read mode\n",
    "for line in simple_file: # iterating through the lines of simple_file.txt\n",
    "    print(line.strip()) # printing the lines of simple_file.txt\n",
    "simple_file.close() # closing the simple_file.txt (this has to be called explicitly)"
   ]
  },
  {
   "cell_type": "markdown",
   "metadata": {},
   "source": [
    "## Writing files"
   ]
  },
  {
   "cell_type": "code",
   "execution_count": 7,
   "metadata": {},
   "outputs": [],
   "source": [
    "new_file_path = os.path.join(data_dir, 'new_file.txt') # joining the data directory with 'new_file.txt' to get the path of new_file.txt\n",
    "\n",
    "with open(new_file_path, 'w') as my_file: # opening the new_file.txt in write mode\n",
    "    my_file.write('This is my first file that I wrote with Python.') # writing a line to new_file.txt"
   ]
  },
  {
   "cell_type": "markdown",
   "metadata": {},
   "source": [
    "Now go and check that there is a new_file.txt in the data directory. After that you can delete the file by:"
   ]
  },
  {
   "cell_type": "code",
   "execution_count": 8,
   "metadata": {},
   "outputs": [],
   "source": [
    "if os.path.exists(new_file_path): # checking if the new_file.txt exists or not\n",
    "    os.remove(new_file_path) # removing the new_file.txt if it exists"
   ]
  },
  {
   "cell_type": "markdown",
   "metadata": {},
   "source": [
    "return to [overview](../00_overview.ipynb)"
   ]
  }
 ],
 "metadata": {
  "kernelspec": {
   "display_name": "Python 3 (ipykernel)",
   "language": "python",
   "name": "python3"
  },
  "language_info": {
   "codemirror_mode": {
    "name": "ipython",
    "version": 3
   },
   "file_extension": ".py",
   "mimetype": "text/x-python",
   "name": "python",
   "nbconvert_exporter": "python",
   "pygments_lexer": "ipython3",
   "version": "3.11.1"
  }
 },
 "nbformat": 4,
 "nbformat_minor": 4
}
