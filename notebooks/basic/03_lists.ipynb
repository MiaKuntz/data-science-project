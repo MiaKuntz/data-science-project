{
 "cells": [
  {
   "cell_type": "markdown",
   "metadata": {},
   "source": [
    "# [Lists](https://docs.python.org/3/library/stdtypes.html#lists)\n",
    "\n",
    "- Lists are used to store multiple items in a single variable\n",
    "        `fruit_list = [\"apple\", \"banana\", \"cherry\"]`\n",
    "- Lists are orders, changeable, and allow duplicate values\n",
    "- List items are indexed, the first item has index [0], the second item index [1] etc.\n",
    "- List items can be of any data type\n"
   ]
  },
  {
   "cell_type": "code",
   "execution_count": 1,
   "metadata": {},
   "outputs": [
    {
     "name": "stdout",
     "output_type": "stream",
     "text": [
      "empty list: [], type: <class 'list'>\n"
     ]
    }
   ],
   "source": [
    "my_empty_list = [] # creating an empty list\n",
    "print('empty list: {}, type: {}'.format(my_empty_list, type(my_empty_list))) # printing the empty list and its type "
   ]
  },
  {
   "cell_type": "code",
   "execution_count": 2,
   "metadata": {},
   "outputs": [
    {
     "name": "stdout",
     "output_type": "stream",
     "text": [
      "lengths: 4 and 6\n"
     ]
    }
   ],
   "source": [
    "list_of_ints = [1, 2, 6, 7] # creating a list of integers \n",
    "list_of_misc = [0.2, 5, 'Python', 'is', 'still fun', '!'] # creating a list of mixed data types \n",
    "print('lengths: {} and {}'.format(len(list_of_ints), len(list_of_misc))) # printing the lengths of the two lists"
   ]
  },
  {
   "cell_type": "markdown",
   "metadata": {},
   "source": [
    "## Accessing values\n",
    "\n",
    "List operations\n",
    "- List syntax L = [value1, value2, ..., valuek] \n",
    "- List indexing L[index], L[-index] \n",
    "- List slices L[from:to], L[from:to:step]\n",
    "- Creating a copy of a list L[:] \n",
    "- List concatenation (creates new list) X + Y \n",
    "- Length of list len(L) \n",
    "- Check if element is in list: e in L \n",
    "- Check if element is not in list: e not in L \n",
    "- Reverse list L[::-1]\n"
   ]
  },
  {
   "cell_type": "code",
   "execution_count": 3,
   "metadata": {},
   "outputs": [
    {
     "name": "stdout",
     "output_type": "stream",
     "text": [
      "Python\n",
      "cool\n",
      "cool\n"
     ]
    }
   ],
   "source": [
    "my_list = ['Python', 'is', 'still', 'cool'] # creating a list of strings\n",
    "print(my_list[0]) # printing the first element of the list\n",
    "print(my_list[3]) # printing the last element of the list\n",
    "print(my_list[-1]) # printing the last element of the list"
   ]
  },
  {
   "cell_type": "code",
   "execution_count": 4,
   "metadata": {},
   "outputs": [
    {
     "name": "stdout",
     "output_type": "stream",
     "text": [
      "first coordinate: [12.0, 13.3]\n",
      "second element of first coordinate: 13.3\n"
     ]
    }
   ],
   "source": [
    "coordinates = [[12.0, 13.3], [0.6, 18.0], [88.0, 1.1]] # creating a list of lists (two-dimensional list)\n",
    "print('first coordinate: {}'.format(coordinates[0])) # printing the first coordinate \n",
    "print('second element of first coordinate: {}'.format(coordinates[0][1])) # printing the second element of the first coordinate"
   ]
  },
  {
   "cell_type": "markdown",
   "metadata": {},
   "source": [
    "## Updating values"
   ]
  },
  {
   "cell_type": "code",
   "execution_count": 5,
   "metadata": {},
   "outputs": [
    {
     "name": "stdout",
     "output_type": "stream",
     "text": [
      "0\n",
      "99\n",
      "[1, 2, 3, 4, 5]\n"
     ]
    }
   ],
   "source": [
    "my_list = [0, 1, 2, 3, 4, 5] # creating a list of integers\n",
    "print(my_list[0]) # printing the first element of the list\n",
    "my_list[0] = 99 # changing the first element of the list\n",
    "print(my_list[0]) # printing the first element of the list again\n",
    "\n",
    "del my_list[0] # deleting the first element of the list\n",
    "print(my_list) # printing the list after deleting the first element"
   ]
  },
  {
   "cell_type": "markdown",
   "metadata": {},
   "source": [
    "## Checking if certain value is present in list"
   ]
  },
  {
   "cell_type": "code",
   "execution_count": 6,
   "metadata": {},
   "outputs": [
    {
     "name": "stdout",
     "output_type": "stream",
     "text": [
      "Python is there!\n"
     ]
    }
   ],
   "source": [
    "languages = ['Java', 'C++', 'Go', 'Python', 'JavaScript'] # creating a list of strings\n",
    "if 'Python' in languages: # checking if 'Python' is in the list\n",
    "    print('Python is there!') # printing a message if 'Python' is in the list"
   ]
  },
  {
   "cell_type": "code",
   "execution_count": 7,
   "metadata": {},
   "outputs": [
    {
     "name": "stdout",
     "output_type": "stream",
     "text": [
      "number 6 is not present\n"
     ]
    }
   ],
   "source": [
    "if 6 not in [1, 2, 3, 7]: # checking if 6 is not in the list\n",
    "    print('number 6 is not present') # printing a message if 6 is not in the list"
   ]
  },
  {
   "cell_type": "markdown",
   "metadata": {},
   "source": [
    "## List are mutable"
   ]
  },
  {
   "cell_type": "code",
   "execution_count": 8,
   "metadata": {},
   "outputs": [
    {
     "name": "stdout",
     "output_type": "stream",
     "text": [
      "original: [99, 2, 3], modified: [99, 2, 3]\n"
     ]
    }
   ],
   "source": [
    "original = [1, 2, 3] # creating a list of integers\n",
    "modified = original # creating a reference to the list\n",
    "modified[0] = 99 # modifying the first element of the list\n",
    "print('original: {}, modified: {}'.format(original, modified)) # printing the original and modified lists"
   ]
  },
  {
   "cell_type": "markdown",
   "metadata": {},
   "source": [
    "You can get around this by creating new `list`:"
   ]
  },
  {
   "cell_type": "code",
   "execution_count": 9,
   "metadata": {},
   "outputs": [
    {
     "name": "stdout",
     "output_type": "stream",
     "text": [
      "original: [1, 2, 3], modified: [99, 2, 3]\n"
     ]
    }
   ],
   "source": [
    "original = [1, 2, 3] # creating a list of integers\n",
    "modified = list(original) # creating a copy of the list\n",
    "\n",
    "modified[0] = 99 # modifying the first element of the list\n",
    "print('original: {}, modified: {}'.format(original, modified)) # printing the original and modified lists"
   ]
  },
  {
   "cell_type": "markdown",
   "metadata": {},
   "source": [
    "## list methods"
   ]
  },
  {
   "cell_type": "markdown",
   "metadata": {},
   "source": [
    "#### `list.append()`"
   ]
  },
  {
   "cell_type": "code",
   "execution_count": 10,
   "metadata": {},
   "outputs": [
    {
     "name": "stdout",
     "output_type": "stream",
     "text": [
      "[1, 'ham']\n"
     ]
    }
   ],
   "source": [
    "my_list = [1] # creating a list of integers\n",
    "my_list.append('ham') # appending a string to the list\n",
    "print(my_list) # printing the list after appending a string"
   ]
  },
  {
   "cell_type": "markdown",
   "metadata": {},
   "source": [
    "#### `list.remove()`"
   ]
  },
  {
   "cell_type": "code",
   "execution_count": 11,
   "metadata": {},
   "outputs": [
    {
     "name": "stdout",
     "output_type": "stream",
     "text": [
      "['Python', 'is', 'fun']\n",
      "Java is not part of this story.\n"
     ]
    }
   ],
   "source": [
    "my_list = ['Python', 'is', 'sometimes', 'fun'] # creating a list of strings\n",
    "my_list.remove('sometimes') # removing an element from the list\n",
    "print(my_list) # printing the list after removing an element\n",
    "\n",
    "# If you are not sure that the value is in list, better to check first:\n",
    "if 'Java' in my_list: # checking if 'Java' is in the list\n",
    "    my_list.remove('Java') # removing 'Java' from the list\n",
    "else: # if 'Java' is not in the list\n",
    "    print('Java is not part of this story.') # printing a message"
   ]
  },
  {
   "cell_type": "markdown",
   "metadata": {},
   "source": [
    "#### `list.sort()`"
   ]
  },
  {
   "cell_type": "code",
   "execution_count": 12,
   "metadata": {},
   "outputs": [
    {
     "name": "stdout",
     "output_type": "stream",
     "text": [
      "numbers: [1, 5, 6, 8, 10]\n",
      "numbers reversed: [10, 8, 6, 5, 1]\n",
      "words: ['a', 'is', 'list', 'of', 'this', 'words']\n"
     ]
    }
   ],
   "source": [
    "numbers = [8, 1, 6, 5, 10] # creating a list of integers\n",
    "numbers.sort() # sorting the list\n",
    "print('numbers: {}'.format(numbers)) # printing the sorted list\n",
    "\n",
    "numbers.sort(reverse=True) # sorting the list in reverse\n",
    "print('numbers reversed: {}'.format(numbers)) # printing the reversed list\n",
    "\n",
    "words = ['this', 'is', 'a', 'list', 'of', 'words'] # creating a list of strings\n",
    "words.sort() # sorting the list\n",
    "print('words: {}'.format(words)) # printing the sorted list"
   ]
  },
  {
   "cell_type": "code",
   "execution_count": 13,
   "metadata": {},
   "outputs": [
    {
     "name": "stdout",
     "output_type": "stream",
     "text": [
      "Help on method_descriptor:\n",
      "\n",
      "sort(self, /, *, key=None, reverse=False)\n",
      "    Sort the list in ascending order and return None.\n",
      "    \n",
      "    The sort is in-place (i.e. the list itself is modified) and stable (i.e. the\n",
      "    order of two equal elements is maintained).\n",
      "    \n",
      "    If a key function is given, apply it once to each list item and sort them,\n",
      "    ascending or descending, according to their function values.\n",
      "    \n",
      "    The reverse flag can be set to sort in descending order.\n",
      "\n"
     ]
    }
   ],
   "source": [
    "help(list.sort) # getting help on the sort method"
   ]
  },
  {
   "cell_type": "markdown",
   "metadata": {},
   "source": [
    "#### `sorted(list)`\n",
    "While `list.sort()` sorts the list in-place, `sorted(list)` returns a new list and leaves the original untouched:"
   ]
  },
  {
   "cell_type": "code",
   "execution_count": 14,
   "metadata": {},
   "outputs": [
    {
     "name": "stdout",
     "output_type": "stream",
     "text": [
      "numbers: [8, 1, 6, 5, 10], sorted: [1, 5, 6, 8, 10]\n"
     ]
    }
   ],
   "source": [
    "numbers = [8, 1, 6, 5, 10] # creating a list of integers\n",
    "sorted_numbers = sorted(numbers) # sorting the list and assigning it to a new variable\n",
    "print('numbers: {}, sorted: {}'.format(numbers, sorted_numbers)) # printing the original and sorted lists"
   ]
  },
  {
   "cell_type": "markdown",
   "metadata": {},
   "source": [
    "#### `list.extend()`"
   ]
  },
  {
   "cell_type": "code",
   "execution_count": 15,
   "metadata": {},
   "outputs": [
    {
     "name": "stdout",
     "output_type": "stream",
     "text": [
      "first: ['beef', 'ham', 'potatoes', 1, 3], second: ['potatoes', 1, 3]\n"
     ]
    }
   ],
   "source": [
    "first_list = ['beef', 'ham'] # creating a list of strings\n",
    "second_list = ['potatoes',1 ,3] # creating a list of mixed data types\n",
    "first_list.extend(second_list) # extending the first list with the second list\n",
    "print('first: {}, second: {}'.format(first_list, second_list)) # printing the first and second lists"
   ]
  },
  {
   "cell_type": "markdown",
   "metadata": {},
   "source": [
    "Alternatively you can also extend lists by summing them:"
   ]
  },
  {
   "cell_type": "code",
   "execution_count": 16,
   "metadata": {},
   "outputs": [
    {
     "name": "stdout",
     "output_type": "stream",
     "text": [
      "first: [1, 2, 3, 4, 5]\n",
      "summed: [1, 2, 3, 4, 5, 4, 5]\n"
     ]
    }
   ],
   "source": [
    "first = [1, 2, 3] # creating a list of integers\n",
    "second = [4, 5] # creating a list of integers\n",
    "first += second # extending the first list with the second list (same as first.extend(second)) \n",
    "print('first: {}'.format(first)) # printing the first list\n",
    "\n",
    "# If you need a new list\n",
    "summed = first + second # creating a new list by adding the two lists together\n",
    "print('summed: {}'.format(summed)) # printing the new list"
   ]
  },
  {
   "cell_type": "markdown",
   "metadata": {},
   "source": [
    "#### `list.reverse()`"
   ]
  },
  {
   "cell_type": "code",
   "execution_count": 17,
   "metadata": {},
   "outputs": [
    {
     "name": "stdout",
     "output_type": "stream",
     "text": [
      "['ham', 'b', 'a']\n"
     ]
    }
   ],
   "source": [
    "my_list = ['a', 'b', 'ham'] # creating a list of strings\n",
    "my_list.reverse() # reversing the list\n",
    "print(my_list) # printing the reversed list"
   ]
  },
  {
   "cell_type": "markdown",
   "metadata": {},
   "source": [
    "# List comprehension (cool stuff)"
   ]
  },
  {
   "cell_type": "markdown",
   "metadata": {},
   "source": [
    "General \n",
    "`[expression for variable in sequence]` \n",
    "    returns a list, where expression is computed for each element in sequence assigned to variable\n",
    "\n",
    "List comprehensions can have nested for-loops \n",
    "`[expression for v1 in s1 for v2 in s2 for v3 in s3]`\n",
    "\n",
    "Can select a subset of the elements by adding an if-condition \n",
    "`[expression for v1 in s1 if condition]` \n"
   ]
  },
  {
   "cell_type": "markdown",
   "metadata": {},
   "source": [
    "return to [overview](../00_overview.ipynb)"
   ]
  }
 ],
 "metadata": {
  "kernelspec": {
   "display_name": "Python 3 (ipykernel)",
   "language": "python",
   "name": "python3"
  },
  "language_info": {
   "codemirror_mode": {
    "name": "ipython",
    "version": 3
   },
   "file_extension": ".py",
   "mimetype": "text/x-python",
   "name": "python",
   "nbconvert_exporter": "python",
   "pygments_lexer": "ipython3",
   "version": "3.11.1"
  }
 },
 "nbformat": 4,
 "nbformat_minor": 2
}
