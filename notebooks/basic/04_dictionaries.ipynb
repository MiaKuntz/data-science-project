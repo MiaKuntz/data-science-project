{
 "cells": [
  {
   "cell_type": "markdown",
   "metadata": {},
   "source": [
    "# [Dictionaries](https://docs.python.org/3/library/stdtypes.html#dict) \n",
    "Collections of `key`-`value` pairs. \n",
    "\n",
    "General:\n",
    "`{key1: value1, ..., keyk: valuek}` \n",
    "\n",
    "- Stores a mutable set of (key, value) pairs, denoted items, with distinct keys, i.e., maps keys to values \n",
    "- Constructing empty dictionary: `dict()` or `{}` \n",
    "- `dict[key]` lookup for key in dictionary and returns associated value. Key must be present otherwise a KeyError is raised. \n",
    "- `dict[key] = value` assigns value to key, overriding existing value if present\n"
   ]
  },
  {
   "cell_type": "code",
   "execution_count": 1,
   "metadata": {},
   "outputs": [
    {
     "name": "stdout",
     "output_type": "stream",
     "text": [
      "dict: {}, type: <class 'dict'>\n"
     ]
    }
   ],
   "source": [
    "my_empty_dict = {} # creating an empty dictionary \n",
    "# alternative: my_empty_dict = dict()\n",
    "print('dict: {}, type: {}'.format(my_empty_dict, type(my_empty_dict))) # printig the dictionary and its type "
   ]
  },
  {
   "cell_type": "markdown",
   "metadata": {},
   "source": [
    "## Initialization"
   ]
  },
  {
   "cell_type": "code",
<<<<<<< HEAD
<<<<<<< HEAD
   "execution_count": 1,
=======
   "execution_count": 2,
>>>>>>> f01e912 (added comments)
=======
   "execution_count": 2,
>>>>>>> f01e912 (added comments)
   "metadata": {},
   "outputs": [
    {
     "name": "stdout",
     "output_type": "stream",
     "text": [
      "{'value1': 1.6, 'value2': 10, 'name': 'John Doe'}\n",
      "{'value1': 1.6, 'value2': 10, 'name': 'John Doe'}\n",
      "equal: True\n",
      "length: 3\n"
     ]
    }
   ],
   "source": [
    "dict1 = {'value1': 1.6, 'value2': 10, 'name': 'John Doe'} # creating a dictionary with 3 key-value pairs \n",
    "dict2 = dict(value1=1.6, value2=10, name='John Doe') # creating a dictionary with 3 key-value pairs \n",
    "\n",
    "print(dict1) # printing the dictionary\n",
    "print(dict2) # printing the dictionary\n",
    "\n",
    "print('equal: {}'.format(dict1 == dict2)) # checking if the two dictionaries are equal\n",
    "print('length: {}'.format(len(dict1))) # checking the length of the dictionary"
   ]
  },
  {
   "cell_type": "markdown",
   "metadata": {},
   "source": [
    "## `dict.keys(), dict.values(), dict.items()`"
   ]
  },
  {
   "cell_type": "code",
   "execution_count": 3,
   "metadata": {},
   "outputs": [
    {
     "name": "stdout",
     "output_type": "stream",
     "text": [
      "keys: dict_keys(['value1', 'value2', 'name'])\n",
      "values: dict_values([1.6, 10, 'John Doe'])\n",
      "items: dict_items([('value1', 1.6), ('value2', 10), ('name', 'John Doe')])\n"
     ]
    }
   ],
   "source": [
    "print('keys: {}'.format(dict1.keys())) # printing the keys of the dictionary\n",
    "print('values: {}'.format(dict1.values())) # printing the values of the dictionary\n",
    "print('items: {}'.format(dict1.items())) # printing the items of the dictionary"
   ]
  },
  {
   "cell_type": "markdown",
   "metadata": {},
   "source": [
    "## Accessing and setting values"
   ]
  },
  {
   "cell_type": "code",
   "execution_count": 4,
   "metadata": {},
   "outputs": [
    {
     "name": "stdout",
     "output_type": "stream",
     "text": [
      "{'key1': 'new value', 'key2': 99}\n",
      "value of key1: new value\n"
     ]
    }
   ],
   "source": [
    "my_dict = {} # creating an empty dictionary\n",
    "my_dict['key1'] = 'value1' # adding a key-value pair to the dictionary \n",
    "my_dict['key2'] = 99 # adding a key-value pair to the dictionary \n",
    "my_dict['key1'] = 'new value' # modifying the value of an existing key (overwriting the value)\n",
    "print(my_dict) # printing the dictionary \n",
    "print('value of key1: {}'.format(my_dict['key1'])) # printing the value of a key"
   ]
  },
  {
   "cell_type": "markdown",
   "metadata": {},
   "source": [
    "Accessing a nonexistent key will raise `KeyError` (see [`dict.get()`](#dict_get) for workaround):"
   ]
  },
  {
   "cell_type": "code",
   "execution_count": 5,
   "metadata": {},
   "outputs": [],
   "source": [
    "# print(my_dict['nope'])"
   ]
  },
  {
   "cell_type": "markdown",
   "metadata": {},
   "source": [
    "## Deleting"
   ]
  },
  {
   "cell_type": "code",
   "execution_count": 6,
   "metadata": {},
   "outputs": [
    {
     "name": "stdout",
     "output_type": "stream",
     "text": [
      "{'key1': 'value1', 'key2': 99}\n",
      "my_key is not in {'key1': 'value1', 'key2': 99}\n"
     ]
    }
   ],
   "source": [
    "my_dict = {'key1': 'value1', 'key2': 99, 'keyX': 'valueX'} # creating a dictionary with 3 key-value pairs\n",
    "del my_dict['keyX'] # deleting a key-value pair from the dictionary\n",
    "print(my_dict) # printing the dictionary\n",
    "\n",
    "# Usually better to make sure that the key exists (see also pop() and popitem())\n",
    "key_to_delete = 'my_key' # setting the key to delete\n",
    "if key_to_delete in my_dict: # checking if the key exists in the dictionary\n",
    "    del my_dict[key_to_delete] # deleting the key-value pair from the dictionary\n",
    "else: # if the key does not exist in the dictionary\n",
    "    print('{key} is not in {dictionary}'.format(key=key_to_delete, dictionary=my_dict)) # printing a message"
   ]
  },
  {
   "cell_type": "markdown",
   "metadata": {},
   "source": [
    "## Dictionaries are mutable"
   ]
  },
  {
   "cell_type": "code",
   "execution_count": 7,
   "metadata": {},
   "outputs": [
    {
     "name": "stdout",
     "output_type": "stream",
     "text": [
      "my_dict: {'ham': 'good', 'carrot': 'super tasty', 'sausage': 'best ever'}\n",
      "other: {'ham': 'good', 'carrot': 'super tasty', 'sausage': 'best ever'}\n",
      "equal: True\n"
     ]
    }
   ],
   "source": [
    "my_dict = {'ham': 'good', 'carrot': 'semi good'} # creating a dictionary with 2 key-value pairs\n",
    "my_other_dict = my_dict # creating a new reference to the same dictionary\n",
    "my_other_dict['carrot'] = 'super tasty' # modifying the value of a key in the new reference\n",
    "my_other_dict['sausage'] = 'best ever' # adding a new key-value pair to the new reference\n",
    "print('my_dict: {}\\nother: {}'.format(my_dict, my_other_dict)) # printing the original and the new reference\n",
    "print('equal: {}'.format(my_dict == my_other_dict)) # checking if the two dictionaries are equal"
   ]
  },
  {
   "cell_type": "markdown",
   "metadata": {},
   "source": [
    "Create a new `dict` if you want to have a copy:"
   ]
  },
  {
   "cell_type": "code",
   "execution_count": 8,
   "metadata": {},
   "outputs": [
    {
     "name": "stdout",
     "output_type": "stream",
     "text": [
      "my_dict: {'ham': 'good', 'carrot': 'semi good'}\n",
      "other: {'ham': 'good', 'carrot': 'semi good', 'beer': 'decent'}\n",
      "equal: False\n"
     ]
    }
   ],
   "source": [
    "my_dict = {'ham': 'good', 'carrot': 'semi good'} # creating a dictionary with 2 key-value pairs\n",
    "my_other_dict = dict(my_dict) # creating a new dictionary as a copy of the original\n",
    "my_other_dict['beer'] = 'decent' # adding a new key-value pair to the new dictionary\n",
    "print('my_dict: {}\\nother: {}'.format(my_dict, my_other_dict)) # printing the original and the new dictionary\n",
    "print('equal: {}'.format(my_dict == my_other_dict)) # checking if the two dictionaries are equal"
   ]
  },
  {
   "cell_type": "markdown",
   "metadata": {},
   "source": [
    "<a id='dict_get'></a>\n",
    "## `dict.get()`\n",
    "Returns `None` if `key` is not in `dict`. However, you can also specify `default` return value which will be returned if `key` is not present in the `dict`. "
   ]
  },
  {
   "cell_type": "code",
   "execution_count": 9,
   "metadata": {},
   "outputs": [
    {
     "name": "stdout",
     "output_type": "stream",
     "text": [
      "d: None\n",
      "d: my default value\n"
     ]
    }
   ],
   "source": [
    "my_dict = {'a': 1, 'b': 2, 'c': 3} # creating a dictionary with 3 key-value pairs\n",
    "d = my_dict.get('d') # trying to get the value for the key 'd'\n",
    "print('d: {}'.format(d)) # printing the value of the key 'd'\n",
    "\n",
    "d = my_dict.get('d', 'my default value') # trying to get the value for the key 'd' with a default value\n",
    "print('d: {}'.format(d)) # printing the value of the key 'd'"
   ]
  },
  {
   "cell_type": "markdown",
   "metadata": {},
   "source": [
    "## `dict.pop()`"
   ]
  },
  {
   "cell_type": "code",
   "execution_count": 10,
   "metadata": {},
   "outputs": [
    {
     "name": "stdout",
     "output_type": "stream",
     "text": [
      "dict before pops: {'food': 'ham', 'drink': 'beer', 'sport': 'football'}\n",
      "food: ham\n",
      "dict after popping food: {'drink': 'beer', 'sport': 'football'}\n",
      "food again: default value for food\n",
      "dict after popping food again: {'drink': 'beer', 'sport': 'football'}\n"
     ]
    }
   ],
   "source": [
    "my_dict = dict(food='ham', drink='beer', sport='football') # creating a dictionary with 3 key-value pairs\n",
    "print('dict before pops: {}'.format(my_dict)) # printing the dictionary before popping\n",
    "\n",
    "food = my_dict.pop('food') # popping the value of the key 'food' from the dictionary (meaning removing it and returning its value)\n",
    "print('food: {}'.format(food)) # printing the value of the key 'food' that was popped \n",
    "print('dict after popping food: {}'.format(my_dict)) # printing the dictionary after popping\n",
    "\n",
    "food_again = my_dict.pop('food', 'default value for food') # popping the value of the key 'food' from the dictionary with a default value\n",
    "print('food again: {}'.format(food_again)) # printing the value of the key 'food' that was popped\n",
    "print('dict after popping food again: {}'.format(my_dict)) # printing the dictionary after popping\n"
   ]
  },
  {
   "cell_type": "markdown",
   "metadata": {},
   "source": [
    "## `dict.setdefault()`\n",
    "Returns the `value` of `key` defined as first parameter. If the `key` is not present in the dict, adds `key` with default value (second parameter)."
   ]
  },
  {
   "cell_type": "code",
   "execution_count": 11,
   "metadata": {},
   "outputs": [
    {
     "name": "stdout",
     "output_type": "stream",
     "text": [
      "a: 1\n",
      "d: my default value\n",
      "my_dict: {'a': 1, 'b': 2, 'c': 3, 'd': 'my default value'}\n"
     ]
    }
   ],
   "source": [
    "my_dict = {'a': 1, 'b': 2, 'c': 3} # creating a dictionary with 3 key-value pairs\n",
    "a = my_dict.setdefault('a', 'my default value') # setting the value of the key 'a' to its default value\n",
    "d = my_dict.setdefault('d', 'my default value') # setting the value of the key 'd' to its default value\n",
    "print('a: {}\\nd: {}\\nmy_dict: {}'.format(a, d, my_dict)) # printing the values of the keys 'a' and 'd' and the dictionary"
   ]
  },
  {
   "cell_type": "markdown",
   "metadata": {},
   "source": [
    "## `dict.update()`\n",
    "Merge two `dict`s"
   ]
  },
  {
   "cell_type": "code",
   "execution_count": 12,
   "metadata": {},
   "outputs": [
    {
     "name": "stdout",
     "output_type": "stream",
     "text": [
      "{'a': 1, 'b': 2, 'c': 3}\n",
      "{'a': 1, 'b': 2, 'c': 4}\n"
     ]
    }
   ],
   "source": [
    "dict1 = {'a': 1, 'b': 2} # creating a dictionary with 2 key-value pairs\n",
    "dict2 = {'c': 3} # creating a dictionary with 1 key-value pair\n",
    "dict1.update(dict2) # updating the dictionary with the key-value pairs from another dictionary\n",
    "print(dict1) # printing the updated dictionary\n",
    "\n",
    "# If they have same keys:\n",
    "dict1.update({'c': 4}) # updating the dictionary with a key-value pair from another dictionary\n",
    "print(dict1) # printing the updated dictionary"
   ]
  },
  {
   "cell_type": "markdown",
   "metadata": {},
   "source": [
    "## The keys of a `dict` have to be immutable"
   ]
  },
  {
   "cell_type": "markdown",
   "metadata": {},
   "source": [
    "Thus you can not use e.g. a `list` or a `dict` as key because they are mutable types\n",
    ":"
   ]
  },
  {
   "cell_type": "code",
   "execution_count": 13,
   "metadata": {},
   "outputs": [],
   "source": [
    "# bad_dict = {['my_list'], 'value'}  # Raises TypeError"
   ]
  },
  {
   "cell_type": "markdown",
   "metadata": {},
   "source": [
    "Values can be mutable"
   ]
  },
  {
   "cell_type": "code",
   "execution_count": 14,
   "metadata": {},
   "outputs": [
    {
     "name": "stdout",
     "output_type": "stream",
     "text": [
      "{'my key': ['Python', 'is', 'still', 'cool']}\n"
     ]
    }
   ],
   "source": [
    "good_dict = {'my key': ['Python', 'is', 'still', 'cool']} # creating a dictionary with a list as a value\n",
    "print(good_dict) # printing the dictionary"
   ]
  },
  {
   "cell_type": "markdown",
   "metadata": {},
   "source": [
    "# Dictionary comprehension"
   ]
  },
  {
   "cell_type": "markdown",
   "metadata": {},
   "source": [
    "Similarly to creating a list using list comprehension, one can create a set of key-value pairs: \n",
    "\n",
    "`{key : value for variable in list}`\n"
   ]
  },
  {
   "cell_type": "markdown",
   "metadata": {},
   "source": [
    "return to [overview](../00_overview.ipynb)"
   ]
  }
 ],
 "metadata": {
  "kernelspec": {
   "display_name": "Python 3 (ipykernel)",
   "language": "python",
   "name": "python3"
  },
  "language_info": {
   "codemirror_mode": {
    "name": "ipython",
    "version": 3
   },
   "file_extension": ".py",
   "mimetype": "text/x-python",
   "name": "python",
   "nbconvert_exporter": "python",
   "pygments_lexer": "ipython3",
   "version": "3.11.1"
  }
 },
 "nbformat": 4,
 "nbformat_minor": 4
}
