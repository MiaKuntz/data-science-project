{
 "cells": [
  {
   "cell_type": "markdown",
   "metadata": {},
   "source": [
    "# Functions\n",
    "\n",
    "Why functions\n",
    "- Avoid writing the same code multiple times, re-usability \n",
    "- Be able to name a functionality \n",
    "- Clearly state the functionality of a piece of code\n",
    "- Share functionality in modules/libraries/packages with other users, code sharing \n",
    "- Increase readability of code, smaller independent blocks of code \n",
    "- Easier systematically testing of code \n",
    "\n",
    "You can define your own functions using:\n",
    "```\n",
    "def function-name(var_1, ..., var_k):\n",
    "    body code\n",
    "```\n",
    "If the body code executes return expression **return expression** The result of expression will be returned by the function. If expression is omitted or the body code terminates without performing return, then None is returned.\n",
    "\n",
    "When calling a function \n",
    "    `function-name(value_1,..., value_k)`\n",
    "    \n",
    "body code is executed with var_i=value_i\n"
   ]
  },
  {
   "cell_type": "code",
   "execution_count": 1,
   "metadata": {},
   "outputs": [
    {
     "name": "stdout",
     "output_type": "stream",
     "text": [
      "type: <function my_first_function at 0x106243240>\n",
      "Hello world!\n"
     ]
    }
   ],
   "source": [
    "def my_first_function(): # defining a function\n",
    "    print('Hello world!') # printing a string to the console (the funtion body) \n",
    "\n",
    "print('type: {}'.format(my_first_function)) # printing the type of the function\n",
    "\n",
    "my_first_function() # calling the function"
   ]
  },
  {
   "cell_type": "markdown",
   "metadata": {},
   "source": [
    "### Arguments"
   ]
  },
  {
   "cell_type": "code",
   "execution_count": 2,
   "metadata": {},
   "outputs": [
    {
     "name": "stdout",
     "output_type": "stream",
     "text": [
      "Hello John Doe and Superman!\n"
     ]
    }
   ],
   "source": [
    "def greet_us(name1, name2): # defining a function with two parameters\n",
    "    print('Hello {} and {}!'.format(name1, name2)) # printing a string to the console\n",
    "\n",
    "greet_us('John Doe', 'Superman') # calling the function with two arguments"
   ]
  },
  {
   "cell_type": "code",
   "execution_count": 12,
   "metadata": {},
   "outputs": [
    {
     "name": "stdout",
     "output_type": "stream",
     "text": [
      "pretty: mixed case\n"
     ]
    }
   ],
   "source": [
    "# Function with return value\n",
    "def strip_and_lowercase(original): # defining a function with one parameter\n",
    "    modified = original.strip().lower() # modifying the parameter\n",
    "    return modified # returning the modified parameter\n",
    "\n",
    "uggly_string = ' MixED CaSe ' # defining a string\n",
    "pretty = strip_and_lowercase(uggly_string) # calling the function with the string as an argument\n",
    "print('pretty: {}'.format(pretty)) # printing the return value of the function"
   ]
  },
  {
   "cell_type": "markdown",
   "metadata": {},
   "source": [
    "### Keyword arguments\n",
    "\n",
    "- Previously we have seen the following (strange) function call\n",
    "    `print(7, 14, 15, sep=\":\", end=\"\")`\n",
    "\n",
    "- name = refers to one of the formal arguments, known as a keyword argument. A name can appear at most once in a function call.\n",
    "- In function calls, keyword arguments must follow positional arguments. \n",
    "- Can e.g. be useful if there are many arguments, and the order is not obvious, i.e. improves readability of code: \n",
    "    ```\n",
    "    complicated_function( \n",
    "              name = \"Mickey\", \n",
    "              city = \"Duckburg\", \n",
    "              state = \"Calisota\", \n",
    "              occupation = \"Detective\", \n",
    "              gender = \"Male\")\n",
    "    ```\n"
   ]
  },
  {
   "cell_type": "code",
   "execution_count": 4,
   "metadata": {},
   "outputs": [
    {
     "name": "stdout",
     "output_type": "stream",
     "text": [
      "4\n",
      "4\n",
      "4\n",
      "4\n"
     ]
    }
   ],
   "source": [
    "def my_fancy_calculation(first, second, third): # defining a function with three parameters\n",
    "    return first + second - third # returning the result of the calculation\n",
    "\n",
    "print(my_fancy_calculation(3, 2, 1)) # calling the function with three arguments\n",
    "\n",
    "print(my_fancy_calculation(first=3, second=2, third=1)) # calling the function with three keyword arguments\n",
    "\n",
    "# With keyword arguments you can mix the order\n",
    "print(my_fancy_calculation(third=1, first=3, second=2)) # calling the function with three keyword arguments in a different order \n",
    "\n",
    "# You can mix arguments and keyword arguments but you have to start with arguments\n",
    "print(my_fancy_calculation(3, third=1, second=2)) # calling the function with one argument and two keyword arguments"
   ]
  },
  {
   "cell_type": "markdown",
   "metadata": {},
   "source": [
    "### Default arguments"
   ]
  },
  {
   "cell_type": "code",
   "execution_count": 5,
   "metadata": {
    "scrolled": true
   },
   "outputs": [
    {
     "name": "stdout",
     "output_type": "stream",
     "text": [
      "{'name': 'John Doe', 'age': 82, 'salary': 300}\n",
      "{'name': 'Lisa Doe', 'age': 22, 'salary': 10000, 'job': 'hacker'}\n"
     ]
    }
   ],
   "source": [
    "def create_person_info(name, age, job=None, salary=300): # defining a function with two required parameters and two optional parameters\n",
    "    info = {'name': name, 'age': age, 'salary': salary} # creating a dictionary\n",
    "    \n",
    "    # Add 'job' key only if it's provided as parameter\n",
    "    if job: # if job is not None\n",
    "        info.update(dict(job=job)) # add job to the dictionary\n",
    "        \n",
    "    return info # return the dictionary\n",
    "\n",
    "person1 = create_person_info('John Doe', 82) # calling the function with two arguments (two required parameters)\n",
    "person2 = create_person_info('Lisa Doe', 22, 'hacker', 10000) # calling the function with four arguments (two required parameters and two keyword arguments) \n",
    "print(person1) # printing the return value of the function\n",
    "print(person2) # printing the return value of the function"
   ]
  },
  {
   "cell_type": "markdown",
   "metadata": {},
   "source": [
    "**Don't use mutable objects as default arguments!**"
   ]
  },
  {
   "cell_type": "code",
   "execution_count": 13,
   "metadata": {},
   "outputs": [
    {
     "name": "stdout",
     "output_type": "stream",
     "text": [
      "[100]\n",
      "[100, 105]\n",
      "[100, 105]\n",
      "[]\n",
      "[100, 105]\n"
     ]
    }
   ],
   "source": [
    "def append_if_multiple_of_five(number, magical_list=[]): # defining a function with one required parameter and one optional parameter\n",
    "    if number % 5 == 0: # if number is a multiple of 5\n",
    "        magical_list.append(number) # append number to the list\n",
    "    return magical_list # return the list\n",
    "\n",
    "print(append_if_multiple_of_five(100)) # calling the function with one argument (returns [100])\n",
    "print(append_if_multiple_of_five(105)) # calling the function with one argument (returns [100, 105])\n",
    "print(append_if_multiple_of_five(123)) # calling the function with one argument (returns [100, 105])\n",
    "print(append_if_multiple_of_five(123, [])) # calling the function with two arguments (returns [])\n",
    "print(append_if_multiple_of_five(123)) # calling the function with one argument (returns [100, 105])"
   ]
  },
  {
   "cell_type": "markdown",
   "metadata": {},
   "source": [
    "Here's how you can achieve desired behavior:"
   ]
  },
  {
   "cell_type": "code",
   "execution_count": 7,
   "metadata": {},
   "outputs": [
    {
     "name": "stdout",
     "output_type": "stream",
     "text": [
      "[100]\n",
      "[105]\n",
      "[]\n",
      "[]\n",
      "[]\n"
     ]
    }
   ],
   "source": [
    "def append_if_multiple_of_five(number, magical_list=None): # defining a function with one required parameter and one optional parameter\n",
    "    if not magical_list: # if magical_list is None\n",
    "        magical_list = [] # set magical_list to an empty list\n",
    "    if number % 5 == 0: # if number is a multiple of 5\n",
    "        magical_list.append(number) # append number to the list\n",
    "    return magical_list # return the list\n",
    "\n",
    "print(append_if_multiple_of_five(100)) # calling the function with one argument (returns [100])\n",
    "print(append_if_multiple_of_five(105)) # calling the function with one argument (returns [105])\n",
    "print(append_if_multiple_of_five(123)) # calling the function with one argument (returns [])\n",
    "print(append_if_multiple_of_five(123, [])) # calling the function with two arguments (returns [])\n",
    "print(append_if_multiple_of_five(123)) # calling the function with one argument (returns [])"
   ]
  },
  {
   "cell_type": "markdown",
   "metadata": {},
   "source": [
    "### Docstrings\n",
    "Strings for documenting your functions, methods, modules and variables.\n",
    "\n",
    "- Because of dynamically typing type hints are very useful when creating functions.\n",
    "- Documentation is used to describe your code\n",
    "    - Describe what the function does\n",
    "    - Describe the expected input parameters\n",
    "    - Describe what is returned by the function\n"
   ]
  },
  {
   "cell_type": "code",
   "execution_count": 8,
   "metadata": {},
   "outputs": [
    {
     "name": "stdout",
     "output_type": "stream",
     "text": [
      "Help on function print_sum in module __main__:\n",
      "\n",
      "print_sum(val1, val2)\n",
      "    Function which prints the sum of given arguments.\n",
      "\n",
      "None\n"
     ]
    }
   ],
   "source": [
    "def print_sum(val1, val2): # defining a function with two parameters\n",
    "    \"\"\"Function which prints the sum of given arguments.\"\"\" # docstring of the function, which is a string that is used to document the function \n",
    "    print('sum: {}'.format(val1 + val2)) # printing the sum of the two arguments\n",
    "\n",
    "print(help(print_sum)) # printing the docstring of the function"
   ]
  },
  {
   "cell_type": "code",
   "execution_count": 9,
   "metadata": {},
   "outputs": [
    {
     "name": "stdout",
     "output_type": "stream",
     "text": [
      "Help on function calculate_sum in module __main__:\n",
      "\n",
      "calculate_sum(val1, val2)\n",
      "    This is a longer docstring defining also the args and the return value. \n",
      "    \n",
      "    Args:\n",
      "        val1: The first parameter.\n",
      "        val2: The second parameter.\n",
      "    \n",
      "    Returns:\n",
      "        The sum of val1 and val2.\n",
      "\n",
      "None\n"
     ]
    }
   ],
   "source": [
    "def calculate_sum(val1, val2): # defining a function with two parameters\n",
    "    \"\"\"This is a longer docstring defining also the args and the return value.\n",
    "\n",
    "    Args:\n",
    "        val1: The first parameter.\n",
    "        val2: The second parameter.\n",
    "\n",
    "    Returns:\n",
    "        The sum of val1 and val2.\n",
    "        \n",
    "    \"\"\"\n",
    "    return val1 + val2 # returning the sum of the two arguments\n",
    "\n",
    "print(help(calculate_sum)) # printing the docstring of the function"
   ]
  },
  {
   "cell_type": "markdown",
   "metadata": {},
   "source": [
    "### [`pass`](https://docs.python.org/3/reference/simple_stmts.html#the-pass-statement) statement\n",
    "`pass` is a statement which does nothing when it's executed. It can be used e.g. a as placeholder to make the code syntatically correct while sketching the functions and/or classes of your application. For example, the following is valid Python. "
   ]
  },
  {
   "cell_type": "code",
   "execution_count": 10,
   "metadata": {},
   "outputs": [],
   "source": [
    "def my_function(some_argument): # defining a function with one parameter\n",
    "    pass # an empty function body\n",
    "\n",
    "def my_other_function(): # defining a function without parameters\n",
    "    pass # an empty function body"
   ]
  },
  {
   "cell_type": "markdown",
   "metadata": {},
   "source": [
    "return to [overview](../00_overview.ipynb)"
   ]
  }
 ],
 "metadata": {
  "kernelspec": {
   "display_name": "Python 3 (ipykernel)",
   "language": "python",
   "name": "python3"
  },
  "language_info": {
   "codemirror_mode": {
    "name": "ipython",
    "version": 3
   },
   "file_extension": ".py",
   "mimetype": "text/x-python",
   "name": "python",
   "nbconvert_exporter": "python",
   "pygments_lexer": "ipython3",
   "version": "3.11.1"
  }
 },
 "nbformat": 4,
 "nbformat_minor": 4
}
