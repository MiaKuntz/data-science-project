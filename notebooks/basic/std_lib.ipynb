{
 "cells": [
  {
   "cell_type": "markdown",
   "metadata": {},
   "source": [
    "# Goodies of the [Python Standard Library](https://docs.python.org/3/library/#the-python-standard-library)\n",
    "The Python Standard Libary is part of your Python installation. It contains a wide range of packages which may be helpful while building your Python masterpieces. This notebook lists some of the commonly used packages and their main functionalities."
   ]
  },
  {
   "cell_type": "markdown",
   "metadata": {},
   "source": [
    "## [`datetime`](https://docs.python.org/3/library/datetime.html#module-datetime) for working with dates and times"
   ]
  },
  {
   "cell_type": "code",
   "execution_count": 1,
   "metadata": {},
   "outputs": [
    {
     "name": "stdout",
     "output_type": "stream",
     "text": [
      "local now: 2024-03-19 12:33:11.950085\n",
      "utc now: 2024-03-19 11:33:11.950662\n",
      "2024 3 19 12 33 11\n",
      "date: 2024-03-19\n",
      "time: 12:33:11.950085\n"
     ]
    }
   ],
   "source": [
    "import datetime as dt # importing datetime module as dt to avoid confusion with datetime class name in datetime module itself \n",
    "\n",
    "local_now = dt.datetime.now() # returning current date and time in local time zone \n",
    "print('local now: {}'.format(local_now)) # printing current date and time in local time zone \n",
    "\n",
    "utc_now = dt.datetime.utcnow() # returning current date and time in UTC time zone \n",
    "print('utc now: {}'.format(utc_now)) # printing current date and time in UTC time zone\n",
    "\n",
    "# You can access any value separately:\n",
    "print('{} {} {} {} {} {}'.format(local_now.year, local_now.month,\n",
    "                                 local_now.day, local_now.hour,\n",
    "                                 local_now.minute, local_now.second)) # printing current year, month, day, hour, minute and second\n",
    "\n",
    "print('date: {}'.format(local_now.date())) # printing current date\n",
    "print('time: {}'.format(local_now.time())) # printing current time"
   ]
  },
  {
   "cell_type": "markdown",
   "metadata": {},
   "source": [
    "### `strftime()`\n",
    "For string formatting the `datetime`"
   ]
  },
  {
   "cell_type": "code",
   "execution_count": 2,
   "metadata": {},
   "outputs": [
    {
     "name": "stdout",
     "output_type": "stream",
     "text": [
      "2024/03/19-12:33:11\n",
      "date: 2024-03-19 time:12:33:11\n"
     ]
    }
   ],
   "source": [
    "formatted1 = local_now.strftime('%Y/%m/%d-%H:%M:%S') # formatting date and time in a specific way\n",
    "print(formatted1) # printing formatted date and time\n",
    "\n",
    "formatted2 = local_now.strftime('date: %Y-%m-%d time:%H:%M:%S') # formatting date and time in a specific way\n",
    "print(formatted2) # printing formatted date and time"
   ]
  },
  {
   "cell_type": "markdown",
   "metadata": {},
   "source": [
    "### `strptime()`\n",
    "For converting a datetime string into a `datetime` object "
   ]
  },
  {
   "cell_type": "code",
   "execution_count": 3,
   "metadata": {},
   "outputs": [
    {
     "name": "stdout",
     "output_type": "stream",
     "text": [
      "my_dt: 2000-01-01 10:00:00\n"
     ]
    }
   ],
   "source": [
    "my_dt = dt.datetime.strptime('2000-01-01 10:00:00', '%Y-%m-%d %H:%M:%S') # converting string to datetime object\n",
    "print('my_dt: {}'.format(my_dt)) # printing datetime object"
   ]
  },
  {
   "cell_type": "markdown",
   "metadata": {},
   "source": [
    "### [`timedelta`](https://docs.python.org/3/library/datetime.html#timedelta-objects)\n",
    "For working with time difference."
   ]
  },
  {
   "cell_type": "code",
   "execution_count": 4,
   "metadata": {},
   "outputs": [
    {
     "name": "stdout",
     "output_type": "stream",
     "text": [
      "tomorrow this time: 2024-03-20 12:33:11.950085\n",
      "tomorrow - now = 1 day, 0:00:00\n",
      "days: 1, seconds: 0\n",
      "total seconds: 86400.0\n"
     ]
    }
   ],
   "source": [
    "tomorrow = local_now + dt.timedelta(days=1) # adding 1 day to current date and time\n",
    "print('tomorrow this time: {}'.format(tomorrow)) # printing date and time of tomorrow\n",
    "\n",
    "delta = tomorrow - local_now # calculating difference between tomorrow and now\n",
    "print('tomorrow - now = {}'.format(delta)) # printing difference between tomorrow and now\n",
    "print('days: {}, seconds: {}'.format(delta.days, delta.seconds)) # printing days and seconds of difference\n",
    "print('total seconds: {}'.format(delta.total_seconds())) # printing total seconds of difference"
   ]
  },
  {
   "cell_type": "markdown",
   "metadata": {},
   "source": [
    "### Working with timezones\n",
    "Let's first make sure [`pytz`](http://pytz.sourceforge.net/) is installed."
   ]
  },
  {
   "cell_type": "code",
   "execution_count": 5,
   "metadata": {},
   "outputs": [
    {
     "name": "stdout",
     "output_type": "stream",
     "text": [
      "Defaulting to user installation because normal site-packages is not writeable\n",
      "Requirement already satisfied: pytz in /Library/Frameworks/Python.framework/Versions/3.11/lib/python3.11/site-packages (2022.7.1)\n"
     ]
    }
   ],
   "source": [
    "import sys # importing sys module to install pytz module\n",
    "!{sys.executable} -m pip install pytz # installing pytz module"
   ]
  },
  {
   "cell_type": "code",
   "execution_count": 6,
   "metadata": {},
   "outputs": [
    {
     "name": "stdout",
     "output_type": "stream",
     "text": [
      "naive utc now: 2024-03-19 11:33:13.200864, tzinfo: None\n",
      "utc now: 2024-03-19 11:33:13.200864+00:00, tzinfo: UTC\n",
      "Paris: 2024-03-19 12:33:13.200864+01:00, tzinfo: Europe/Paris\n",
      "New York: 2024-03-19 07:33:13.200864-04:00, tzinfo: America/New_York\n"
     ]
    }
   ],
   "source": [
    "import datetime as dt # importing datetime module as dt to avoid confusion with datetime class name in datetime module itself\n",
    "import pytz # importing pytz module\n",
    "\n",
    "naive_utc_now = dt.datetime.utcnow() # returning current date and time in UTC time zone\n",
    "print('naive utc now: {}, tzinfo: {}'.format(naive_utc_now, naive_utc_now.tzinfo)) # printing current date and time in UTC time zone\n",
    "\n",
    "# Localizing naive datetimes\n",
    "UTC_TZ = pytz.timezone('UTC') # creating timezone object for UTC time zone\n",
    "utc_now = UTC_TZ.localize(naive_utc_now) # localizing naive_utc_now to UTC time zone\n",
    "print('utc now: {}, tzinfo: {}'.format(utc_now, utc_now.tzinfo)) # printing current date and time in UTC time zone\n",
    "\n",
    "# Converting localized datetimes to different timezone\n",
    "PARIS_TZ = pytz.timezone('Europe/Paris') # creating timezone object for Paris time zone\n",
    "paris_now = PARIS_TZ.normalize(utc_now) # converting utc_now to Paris time zone\n",
    "print('Paris: {}, tzinfo: {}'.format(paris_now, paris_now.tzinfo)) # printing current date and time in Paris time zone\n",
    "\n",
    "NEW_YORK_TZ = pytz.timezone('America/New_York') # creating timezone object for New York time zone\n",
    "ny_now = NEW_YORK_TZ.normalize(utc_now) # converting utc_now to New York time zone\n",
    "print('New York: {}, tzinfo: {}'.format(ny_now, ny_now.tzinfo)) # printing current date and time in New York time zone"
   ]
  },
  {
   "cell_type": "markdown",
   "metadata": {},
   "source": [
    "**NOTE**: If your project uses datetimes heavily, you may want to take a look at external libraries, such as [Pendulum](https://pendulum.eustace.io/docs/) and [Maya](https://github.com/kennethreitz/maya), which make working with datetimes easier for certain use cases."
   ]
  },
  {
   "cell_type": "markdown",
   "metadata": {},
   "source": [
    "## [`logging`](https://docs.python.org/3/library/logging.html#module-logging)"
   ]
  },
  {
   "cell_type": "code",
   "execution_count": 7,
   "metadata": {},
   "outputs": [
    {
     "name": "stderr",
     "output_type": "stream",
     "text": [
      "This is warning\n",
      "This is error\n",
      "This is critical\n"
     ]
    }
   ],
   "source": [
    "import logging # importing logging module\n",
    "\n",
    "# Handy way for getting a dedicated logger for every module separately\n",
    "logger = logging.getLogger(__name__) # getting a dedicated logger for this module\n",
    "logger.setLevel(logging.WARNING) # setting logging level to WARNING\n",
    "\n",
    "logger.debug('This is debug') # logging debug message\n",
    "logger.info('This is info') # logging info message\n",
    "logger.warning('This is warning') # logging warning message\n",
    "logger.error('This is error') # logging error message\n",
    "logger.critical('This is critical') # logging critical message"
   ]
  },
  {
   "cell_type": "markdown",
   "metadata": {},
   "source": [
    "### Logging expections\n",
    "There's a neat `exception` function in `logging` module which will automatically log the stack trace in addition to user defined log entry. "
   ]
  },
  {
   "cell_type": "code",
   "execution_count": 8,
   "metadata": {},
   "outputs": [
    {
     "name": "stderr",
     "output_type": "stream",
     "text": [
      "ERROR:root:All went south in my calculation\n",
      "Traceback (most recent call last):\n",
      "  File \"/var/folders/5j/v9msxv8n6jv_3409lgk47xph0000gn/T/ipykernel_23577/3903646977.py\", line 2, in <module>\n",
      "    path_calculation = 1 / 0\n",
      "                       ~~^~~\n",
      "ZeroDivisionError: division by zero\n"
     ]
    }
   ],
   "source": [
    "try: # trying to execute code\n",
    "    path_calculation = 1 / 0 # raising ZeroDivisionError\n",
    "except ZeroDivisionError: # handling ZeroDivisionError\n",
    "    logging.exception('All went south in my calculation') # logging exception message"
   ]
  },
  {
   "cell_type": "markdown",
   "metadata": {},
   "source": [
    "### Formatting log entries"
   ]
  },
  {
   "cell_type": "code",
   "execution_count": 9,
   "metadata": {},
   "outputs": [
    {
     "name": "stderr",
     "output_type": "stream",
     "text": [
      "2024-03-19 12:33:13,244 | MyLogger     | WARNING    | Something bad is going to happen\n",
      "2024-03-19 12:33:13,244 | MyLogger     | ERROR      | Uups, it already happened\n"
     ]
    }
   ],
   "source": [
    "import logging # importing logging module\n",
    "\n",
    "# This is only required for Jupyter notebook environment\n",
    "from importlib import reload # importing reload function from importlib module\n",
    "reload(logging) # reloading logging module\n",
    "\n",
    "my_format = '%(asctime)s | %(name)-12s | %(levelname)-10s | %(message)s' # defining custom format for log messages\n",
    "logging.basicConfig(format=my_format) # configuring logging with custom format\n",
    "\n",
    "logger = logging.getLogger('MyLogger') # getting a dedicated logger for this module\n",
    "\n",
    "logger.warning('Something bad is going to happen') # logging warning message\n",
    "logger.error('Uups, it already happened') # logging error message"
   ]
  },
  {
   "cell_type": "markdown",
   "metadata": {},
   "source": [
    "### Logging to a file"
   ]
  },
  {
   "cell_type": "code",
   "execution_count": 10,
   "metadata": {},
   "outputs": [],
   "source": [
    "import os # importing os module\n",
    "import logging # importing logging module\n",
    "\n",
    "# This is only required for Jupyter notebook environment\n",
    "from importlib import reload # importing reload function from importlib module\n",
    "reload(logging) # reloading logging module\n",
    "\n",
    "logger = logging.getLogger('MyFileLogger') # getting a dedicated logger for this module\n",
    "\n",
    "# Let's define a file_handler for our logger\n",
    "log_path = os.path.join(os.getcwd(), 'my_log.txt') # defining path for log file\n",
    "file_handler = logging.FileHandler(log_path) # creating file handler for log file\n",
    "\n",
    "# And a nice format\n",
    "formatter = logging.Formatter('%(asctime)s | %(name)-12s | %(levelname)-10s | %(message)s') # defining custom format for log messages\n",
    "file_handler.setFormatter(formatter) # setting formatter for file handler\n",
    "\n",
    "logger.addHandler(file_handler) # adding file handler to logger\n",
    "\n",
    "# If you want to see it also in the console, add another handler for it\n",
    "# logger.addHandler(logging.StreamHandler())\n",
    "\n",
    "logger.warning('Oops something is going to happen')\n",
    "logger.error('John Doe visits our place')"
   ]
  },
  {
   "cell_type": "markdown",
   "metadata": {},
   "source": [
    "## [`random`](https://docs.python.org/3/library/random.html) for random number generation"
   ]
  },
  {
   "cell_type": "code",
   "execution_count": 11,
   "metadata": {},
   "outputs": [
    {
     "name": "stdout",
     "output_type": "stream",
     "text": [
      "random integer between 1-100: 33\n",
      "random float between 0-1: 0.887025561745229\n"
     ]
    }
   ],
   "source": [
    "import random # importing random module\n",
    "\n",
    "rand_int = random.randint(1, 100) # returning random integer between 1-100\n",
    "print('random integer between 1-100: {}'.format(rand_int)) # printing random integer between 1-100\n",
    "\n",
    "rand = random.random() # returning random float between 0-1\n",
    "print('random float between 0-1: {}'.format(rand)) # printing random float between 0-1"
   ]
  },
  {
   "cell_type": "markdown",
   "metadata": {},
   "source": [
    "If you need pseudo random numbers, you can set the `seed` for random. This will reproduce the output (try running the cell multiple times):"
   ]
  },
  {
   "cell_type": "code",
   "execution_count": 12,
   "metadata": {},
   "outputs": [
    {
     "name": "stdout",
     "output_type": "stream",
     "text": [
      "0.6229016948897019\n",
      "0.7417869892607294\n",
      "0.7951935655656966\n",
      "0.9424502837770503\n",
      "0.7398985747399307\n",
      "0.922324996665417\n",
      "0.029005228283614737\n",
      "0.46562265437810535\n",
      "0.9433567169983137\n",
      "0.6489745531369242\n"
     ]
    }
   ],
   "source": [
    "import random # importing random module\n",
    "\n",
    "random.seed(5) # setting seed for random number generator\n",
    "\n",
    "# Let's print 10 random numbers\n",
    "for _ in range(10): # iterating 10 times\n",
    "    print(random.random()) # printing random float between 0-1"
   ]
  },
  {
   "cell_type": "markdown",
   "metadata": {},
   "source": [
    "## [`re`](https://docs.python.org/3/library/re.html#module-re) for regular expressions"
   ]
  },
  {
   "cell_type": "markdown",
   "metadata": {},
   "source": [
    "### Searching occurences"
   ]
  },
  {
   "cell_type": "code",
   "execution_count": 13,
   "metadata": {},
   "outputs": [
    {
     "name": "stdout",
     "output_type": "stream",
     "text": [
      "match: <re.Match object; span=(9, 12), match='g12'>\n",
      "match.group(): g12\n",
      "numbers: ['8', '1', '2', '5', '0', '9']\n"
     ]
    }
   ],
   "source": [
    "import re # importing re module\n",
    "\n",
    "secret_code = 'qwret 8sfg12f5 fd09f_df' # defining secret code\n",
    "# \"r\" at the beginning means raw format, use it with regular expression patterns\n",
    "search_pattern = r'(g12)' # defining search pattern\n",
    "\n",
    "match = re.search(search_pattern, secret_code) # searching for pattern in secret code\n",
    "print('match: {}'.format(match)) # printing match\n",
    "print('match.group(): {}'.format(match.group())) # printing match group\n",
    "\n",
    "numbers_pattern = r'[0-9]' # defining numbers pattern\n",
    "numbers_match = re.findall(numbers_pattern, secret_code) # finding all numbers in secret code\n",
    "print('numbers: {}'.format(numbers_match)) # printing numbers"
   ]
  },
  {
   "cell_type": "markdown",
   "metadata": {},
   "source": [
    "### Variable validation"
   ]
  },
  {
   "cell_type": "code",
   "execution_count": 14,
   "metadata": {},
   "outputs": [
    {
     "name": "stdout",
     "output_type": "stream",
     "text": [
      "True\n",
      "False\n",
      "False\n",
      "False\n",
      "False\n"
     ]
    }
   ],
   "source": [
    "import re # importing re module\n",
    "\n",
    "def validate_only_lower_case_letters(to_validate): # defining function to validate only lower case letters\n",
    "    pattern = r'^[a-z]+$' # defining pattern for lower case letters\n",
    "    return bool(re.match(pattern, to_validate)) # returning True if to_validate matches pattern, otherwise False\n",
    "\n",
    "print(validate_only_lower_case_letters('thisshouldbeok')) # printing result of validation function (True)\n",
    "print(validate_only_lower_case_letters('thisshould notbeok')) # printing result of validation function (False)\n",
    "print(validate_only_lower_case_letters('Thisshouldnotbeok')) # printing result of validation function (False)\n",
    "print(validate_only_lower_case_letters('thisshouldnotbeok1')) # printing result of validation function (False)\n",
    "print(validate_only_lower_case_letters('')) # printing result of validation function (False)"
   ]
  }
 ],
 "metadata": {
  "kernelspec": {
   "display_name": "Python 3",
   "language": "python",
   "name": "python3"
  },
  "language_info": {
   "codemirror_mode": {
    "name": "ipython",
    "version": 3
   },
   "file_extension": ".py",
   "mimetype": "text/x-python",
   "name": "python",
   "nbconvert_exporter": "python",
   "pygments_lexer": "ipython3",
   "version": "3.11.1"
  }
 },
 "nbformat": 4,
 "nbformat_minor": 2
}
